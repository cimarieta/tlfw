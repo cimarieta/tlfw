{
 "cells": [
  {
   "cell_type": "code",
   "execution_count": 1,
   "metadata": {},
   "outputs": [
    {
     "name": "stdout",
     "output_type": "stream",
     "text": [
      "Requirement already satisfied: pandas in /home/cin/anaconda3/lib/python3.6/site-packages\n",
      "Requirement already satisfied: numpy in /home/cin/anaconda3/lib/python3.6/site-packages\n",
      "Requirement already satisfied: altair in /home/cin/anaconda3/lib/python3.6/site-packages\n",
      "Requirement already satisfied: python-dateutil>=2 in /home/cin/anaconda3/lib/python3.6/site-packages (from pandas)\n",
      "Requirement already satisfied: pytz>=2011k in /home/cin/anaconda3/lib/python3.6/site-packages (from pandas)\n",
      "Requirement already satisfied: typing in /home/cin/anaconda3/lib/python3.6/site-packages (from altair)\n",
      "Requirement already satisfied: jsonschema in /home/cin/anaconda3/lib/python3.6/site-packages (from altair)\n",
      "Requirement already satisfied: toolz in /home/cin/anaconda3/lib/python3.6/site-packages (from altair)\n",
      "Requirement already satisfied: six in /home/cin/anaconda3/lib/python3.6/site-packages (from altair)\n",
      "Requirement already satisfied: entrypoints in /home/cin/anaconda3/lib/python3.6/site-packages (from altair)\n",
      "\u001b[33mYou are using pip version 9.0.1, however version 10.0.1 is available.\n",
      "You should consider upgrading via the 'pip install --upgrade pip' command.\u001b[0m\n"
     ]
    }
   ],
   "source": [
    "!pip install pandas numpy altair"
   ]
  },
  {
   "cell_type": "code",
   "execution_count": 2,
   "metadata": {},
   "outputs": [],
   "source": [
    "FOLDER_TO_SAVE = '/home/cin/Documents/tese/overleaf_project/latex_files/figs/tlfw/'"
   ]
  },
  {
   "cell_type": "code",
   "execution_count": 3,
   "metadata": {},
   "outputs": [],
   "source": [
    "import matplotlib.pyplot as plt\n",
    "\n",
    "#plt.style.use('ggplot')\n",
    "plt.rc('axes', axisbelow=True)"
   ]
  },
  {
   "cell_type": "code",
   "execution_count": 4,
   "metadata": {},
   "outputs": [],
   "source": [
    "import pandas as pd\n",
    "import numpy as np\n",
    "from scipy.linalg import eig\n",
    "from scipy.stats import binom\n",
    "from ipywidgets import interact, interactive, fixed, interact_manual\n",
    "import ipywidgets as widgets\n",
    "\n",
    "import warnings\n",
    "warnings.filterwarnings('ignore')"
   ]
  },
  {
   "cell_type": "markdown",
   "metadata": {},
   "source": [
    "# Formulas\n",
    "\n",
    "\n",
    "$$\n",
    "\\begin{aligned}\n",
    "     R_{kl} &= \\sum_{j=0}^{n} S_{kj} M_{jl}= \\begin{cases}\n",
    "     \\displaystyle\\sum_{j=0}^{n} \\bar{w}_k \\mathrm{Pr}\\left(\\mathrm{Bin}\\left( n, \\dfrac{kw_k^A}{n\\bar{w}_k} \\right) = j \\right)\n",
    "           \\left[\\mathrm{Pr}(\\mathrm{Bin}(j,1-m)=l) + mj \\right], & \\mbox{if $l=1$} \\\\\n",
    "     \\displaystyle\\sum_{j=0}^{n} \\bar{w}_k \\mathrm{Pr}\\left(\\mathrm{Bin}\\left( n, \\dfrac{kw_k^A}{n\\bar{w}_k} \\right) = j\\right)\n",
    "     \\mathrm{Pr}(\\mathrm{Bin}(j,1-m)=l),  & \\mbox{if $l \\neq 1$} \n",
    "     \\end{cases}\n",
    "\\end{aligned}\n",
    "$$\n",
    "\n",
    "And $w_k$ is defined by:\n",
    "$$\n",
    "w_k = \\frac{k w_k^A + (n-k) w_k^N}{n} \\,,\n",
    "$$in which: $w_k^* = 1 + \\delta v_k^*$, for any $^* \\in \\{A, N\\}$, with selection strength given by $0 \\geq \\delta \\geq 1$ and payoff function $v_k$, dependent on the number of individuals with trait $A$ inside a group, $k$."
   ]
  },
  {
   "cell_type": "code",
   "execution_count": 10,
   "metadata": {},
   "outputs": [],
   "source": [
    "class SelectionMatrix():\n",
    "    selmatrix  = {}\n",
    "    def __init__(self, v_k, args):\n",
    "        self.fn_fun = fn_fun(v_k)\n",
    "        self.args = args\n",
    "        self.n = args[0]\n",
    "        self.avg_fitness_func = self.avg_fitness()\n",
    "        self.ref_fitness = self.init_ref_fitness()\n",
    "        self.ref_avg_fitness = self.init_ref_avg_fitness()\n",
    "        self.ref_probs_reproduc = self.init_ref_probs_reproduc()\n",
    "        self.ref_selection_matrix = self.init_ref_selection_matrix()\n",
    "    \n",
    "    @staticmethod\n",
    "    def make(v_k, args):\n",
    "        if (v_k, args) not in SelectionMatrix.selmatrix:\n",
    "            SelectionMatrix.selmatrix[(v_k, args)] = SelectionMatrix(v_k, args)\n",
    "        return SelectionMatrix.selmatrix[(v_k, args)]\n",
    "    \n",
    "    def avg_fitness(self):\n",
    "        def _avg_fitness(k):\n",
    "            return (k*self.fn_fun(1, k, *self.args) + (self.n-k)*self.fn_fun(1, k, *self.args))/n\n",
    "        return _avg_fitness\n",
    "        \n",
    "    def init_ref_fitness(self):\n",
    "        return np.array([self.fn_fun(1, k, *self.args) for k in range(self.n+1)])\n",
    "    \n",
    "    def init_ref_avg_fitness(self):\n",
    "        return np.array([self.avg_fitness_func(k) for k in range(self.n+1)])\n",
    "    \n",
    "    def init_ref_probs_reproduc(self):\n",
    "        k_values = np.arange(n+1)\n",
    "        wkA_div_avg_wk = np.divide(self.ref_fitness, self.ref_avg_fitness,\n",
    "                                   out=np.zeros_like(self.ref_fitness), where=self.ref_avg_fitness!=0)\n",
    "        ref_probs = (k_values/self.n)*wkA_div_avg_wk\n",
    "        return np.maximum(np.minimum(ref_probs, np.ones(self.n+1)), np.zeros(n+1))\n",
    "    \n",
    "    def init_ref_selection_matrix(self):\n",
    "        \"\"\"Returns matrix in which row is k and column is j\n",
    "        \"\"\"\n",
    "        reproduc_matrix = np.array([binom.pmf(np.arange(self.n+1), self.n, p) for p in self.ref_probs_reproduc])\n",
    "        return self.ref_avg_fitness.reshape((self.n+1, 1))*reproduc_matrix"
   ]
  },
  {
   "cell_type": "code",
   "execution_count": 11,
   "metadata": {},
   "outputs": [],
   "source": [
    "class MatrixCalculator():\n",
    "    def __init__(self, v_k, m, args):\n",
    "        self.sel_matrix_obj =  SelectionMatrix.make(v_k, args)\n",
    "        self.fn_fun = self.sel_matrix_obj.fn_fun\n",
    "        self.m = m\n",
    "        self.args = args\n",
    "        self.n = self.sel_matrix_obj.n\n",
    "        self.ref_selection_matrix = self.sel_matrix_obj.ref_selection_matrix\n",
    "        self.ref_migration_matrix = self.init_ref_migration_matrix()\n",
    "        self.rho = None\n",
    "        self.nu = None\n",
    "    \n",
    "    def init_ref_migration_matrix(self):\n",
    "        \"\"\"Returns matrix in which row is j and column is l\n",
    "        \"\"\"\n",
    "        main_matrix = np.array([binom.pmf(np.arange(n+1), j, 1-self.m) for j in range(self.n+1)])\n",
    "        mask_matrix = np.zeros(main_matrix.shape)\n",
    "        mask_matrix[:,1] = self.m*np.arange(n+1)\n",
    "        return main_matrix + mask_matrix\n",
    "    \n",
    "    def calc_matrix_r(self):\n",
    "        return np.matmul(self.ref_selection_matrix, self.ref_migration_matrix)[1:, 1:]\n",
    "    \n",
    "    def calc_dominant_eigenval_eigenvec(self):\n",
    "        matrix_r = self.calc_matrix_r()\n",
    "        eigenvals, eigenvecs = eig(matrix_r, left=True, right=False)\n",
    "        max_idx = np.argmax(eigenvals)\n",
    "        self.rho = eigenvals[max_idx]\n",
    "        self.nu = eigenvecs[:, max_idx]/np.sum(eigenvecs[:, max_idx])\n",
    "\n",
    "    def calc_rho(self):\n",
    "        if self.rho is None:\n",
    "            self.calc_dominant_eigenval_eigenvec()\n",
    "        return self.rho\n",
    "    \n",
    "    def calc_nu(self):\n",
    "        if self.nu is None:\n",
    "            self.calc_dominant_eigenval_eigenvec()\n",
    "        return self.nu        "
   ]
  },
  {
   "cell_type": "markdown",
   "metadata": {},
   "source": [
    "## Payoff functions\n",
    "\n",
    "### Public goods game:\n",
    "$$\n",
    "v^A_k = -C + (k-1)B/(n-1),  \\\\\n",
    "v^N_k =    k B/(n-1),\n",
    "$$\n",
    "\n",
    "### Iterated public goods game:\n",
    "$$\n",
    "\\begin{align}\n",
    "v^A_k & = \\left\\{\n",
    "                \\begin{array}{cc}\n",
    "                                    -C + \\dfrac{(k-1)B}{n-1},  & \\mbox{if  $k \\leq \\theta$},  \\\\\n",
    "                                   T \\, \\left(-C + \\dfrac{(k-1)B}{n-1}\\right), & \\mbox{if  $k > \\theta$}, \n",
    "                \\end{array}\n",
    "\\right.  \\\\\n",
    "v^N_k & =  \\left\\{\n",
    "                \\begin{array}{cc} \n",
    "                                    \\dfrac{kB}{n-1},  & \\mbox{if  $k \\leq \\theta$},  \\\\\n",
    "                                    T \\, \\dfrac{kB}{n-1}, & \\mbox{if  $k > \\theta$},  \n",
    "                \\end{array}\n",
    "\\right.\n",
    "\\end{align}\n",
    "$$\n",
    "for $0 < C < B$, $T \\geq 1$ and $\\theta \\in \\{1,2,...,n-1\\}$\n",
    "\n",
    "### Threshold model:\n",
    "$$\n",
    "\\begin{align}\n",
    "v^A_k & = \\left\\{\n",
    "                \\begin{array}{lc}\n",
    "                                    -C,  & \\mbox{if  $k < \\theta$},  \\\\\n",
    "                                    -C + B, & \\mbox{if  $k \\geq \\theta$},\n",
    "                \\end{array}\n",
    "\\right.  \\\\\n",
    "v^N_k & =  \\left\\{\n",
    "                \\begin{array}{lc}\n",
    "                                     0,  & \\mbox{if  $k < \\theta$},  \\\\\n",
    "                                     B', & \\mbox{if  $k \\geq \\theta$},\n",
    "                \\end{array}\n",
    "\\right.\n",
    "\\end{align}\n",
    "$$\n",
    "for positive constants $C$, $B$ and $B'$, and an integer $\\theta \\in \\{1,2,...,n\\}$"
   ]
  },
  {
   "cell_type": "code",
   "execution_count": 12,
   "metadata": {},
   "outputs": [],
   "source": [
    "def fn_fun(v_k):\n",
    "    def _fn_fun(label, k, *args):\n",
    "        return 1 + args[3]*v_k(label, k, *args)\n",
    "    return _fn_fun\n",
    "\n",
    "def oopg_payoff_func(label, k, n, b, c, delta):\n",
    "    return label*(-c) + (k - label)*b/(n-1)\n",
    "\n",
    "def srpg_payoff_func(label, k, n, b, c, delta):\n",
    "    return label*(-c) + k*b/n\n",
    "\n",
    "def ipg_payoff_func(label, k, n, b, c, delta, T, theta):\n",
    "    mult_factor = T if k > theta else 1\n",
    "    return mult_factor*(-c*label + (k-label)*b/(n-1))\n",
    "\n",
    "def thr_payoff_func(label, k, n, b, c, delta, b_prime, theta):\n",
    "    benefit = 0 if k < theta else label*b + (1-label)*b_prime\n",
    "    return label*(-c) + benefit"
   ]
  },
  {
   "cell_type": "code",
   "execution_count": 13,
   "metadata": {},
   "outputs": [],
   "source": [
    "b = 5\n",
    "c = 1\n",
    "delta = 0.1\n",
    "n = 20\n",
    "m = 0.01\n",
    "args = (n, b, c, delta)"
   ]
  },
  {
   "cell_type": "code",
   "execution_count": 14,
   "metadata": {},
   "outputs": [],
   "source": [
    "mat = MatrixCalculator(oopg_payoff_func, m, args)"
   ]
  },
  {
   "cell_type": "code",
   "execution_count": 15,
   "metadata": {},
   "outputs": [],
   "source": [
    "fit_df = pd.DataFrame()"
   ]
  },
  {
   "cell_type": "code",
   "execution_count": 16,
   "metadata": {},
   "outputs": [],
   "source": [
    "fit_df['k'] = range(1, n+1)\n",
    "fit_df['fitness'] = fit_df['k'].apply(lambda k: (fn_fun(oopg_payoff_func)(1, k, *args) - 1)/args[-1])\n",
    "fit_df['label'] = 'A'\n",
    "fit_dfN = pd.DataFrame()\n",
    "fit_dfN['k'] = range(1, n+1)\n",
    "fit_dfN['fitness'] = fit_dfN['k'].apply(lambda k: (fn_fun(oopg_payoff_func)(0, k, *args) - 1)/args[-1])\n",
    "fit_dfN['label'] = 'N'\n",
    "fit_df = pd.concat([fit_df, fit_dfN])"
   ]
  },
  {
   "cell_type": "code",
   "execution_count": 17,
   "metadata": {},
   "outputs": [],
   "source": [
    "COLORS = ['#00ab84', '#e57364', '#fb607f', '#5eaaff', '#323296', '#2f8442', '#b87eef', '#8b9ae9', '#e98bb0']"
   ]
  },
  {
   "cell_type": "code",
   "execution_count": 18,
   "metadata": {},
   "outputs": [],
   "source": [
    "MARKERS = ['o', 'v', 's', '*', '+']"
   ]
  },
  {
   "cell_type": "code",
   "execution_count": 19,
   "metadata": {},
   "outputs": [],
   "source": [
    "plt.rcParams['font.size'] = 16"
   ]
  },
  {
   "cell_type": "code",
   "execution_count": 20,
   "metadata": {},
   "outputs": [
    {
     "data": {
      "image/png": "[encoded data removed]",
      "text/plain": [
       "<matplotlib.figure.Figure at 0x7fafaf3ca8d0>"
      ]
     },
     "metadata": {},
     "output_type": "display_data"
    }
   ],
   "source": [
    "fig = plt.figure(figsize=(6,6))\n",
    "ax = fig.add_subplot(111)\n",
    "ax.scatter(fit_df[fit_df['label']=='A']['k'], fit_df[fit_df['label']=='A']['fitness'], label=r'$A$', facecolors='none', edgecolor=COLORS[0], marker='o', linewidth=2.5, s=100)\n",
    "ax.scatter(fit_df[fit_df['label']=='N']['k'], fit_df[fit_df['label']=='N']['fitness'], label=r'$N$', facecolors='none', edgecolor=COLORS[1], marker='o', linewidth=2.5, s=100)\n",
    "ax.set_xlabel(r'$k$', fontsize=16)\n",
    "ax.set_ylabel('fitness', fontsize=16)\n",
    "legend = plt.legend(title='label', fancybox=True, fontsize=16, facecolor='white', bbox_to_anchor=(1.02, 1.015))\n",
    "legend.get_title().set_fontsize('18')\n",
    "plt.tight_layout()\n",
    "plt.show()"
   ]
  },
  {
   "cell_type": "code",
   "execution_count": 21,
   "metadata": {},
   "outputs": [],
   "source": [
    "def get_dataset_rho_m_varying_delta(payoffs_func, payoffs_set, delta_values, m_values=np.linspace(0., 1., 100)):\n",
    "    df = pd.DataFrame()\n",
    "    for k, v_k in payoffs_func.items():\n",
    "        args = payoffs_set[k]\n",
    "        data = {'m': [], 'rho': [], 'delta': []}\n",
    "        for delta in delta_values:\n",
    "            try:\n",
    "                rho_values = [float(MatrixCalculator(v_k, m, args(delta)).calc_rho()) for m in m_values]\n",
    "            except:\n",
    "                import pdb; pdb.set_trace()\n",
    "            data['m'] += list(m_values)\n",
    "            data['rho'] += rho_values\n",
    "            data['delta'] += [delta]*len(m_values)\n",
    "        data['payoff_func'] = [k]*len(data['m'])\n",
    "        df = pd.concat([df, pd.DataFrame(data)])\n",
    "    return df\n",
    "\n",
    "\n",
    "def plot_df(df, xlims=[0., 0.75], ylims=[0, 2.6]):\n",
    "    fig = plt.figure(figsize=(15,7))\n",
    "    for cont, payoff_type in enumerate(df['payoff_func'].unique()):\n",
    "        df_aux = df[df['payoff_func'] == payoff_type]\n",
    "        ax = fig.add_subplot(1, 3, cont+1)\n",
    "        for i, delta in enumerate(df['delta'].unique()):\n",
    "            ax.plot(df_aux[df_aux['delta']==delta]['m'], df_aux[df_aux['delta']==delta]['rho'], color=COLORS[i+2], linewidth=2, marker=MARKERS[i], markevery=5,\n",
    "                    label=r'$\\delta={}$'.format(delta), ms=8)\n",
    "        ax.hlines(1., linestyles='dashed', color='black', xmin=-0.5, xmax=1.2)\n",
    "        ax.set_xlabel(r'$m$', fontsize=16)\n",
    "        ax.set_ylabel(r'$\\rho$', fontsize=16)\n",
    "        ax.set_xlim(xlims)\n",
    "        ax.set_ylim(ylims)\n",
    "        ax.set_title(payoff_type.upper(), fontsize=16)\n",
    "    legend = plt.legend(title='label', fancybox=True, fontsize=16, facecolor='white', bbox_to_anchor=(1.52, 1.015))\n",
    "    legend.get_title().set_fontsize('18')\n",
    "    plt.tight_layout()\n",
    "    plt.show()"
   ]
  },
  {
   "cell_type": "code",
   "execution_count": 22,
   "metadata": {},
   "outputs": [],
   "source": [
    "n = 20\n",
    "T = 10\n",
    "theta = 8\n",
    "b = 5\n",
    "b_prime = 5\n",
    "c = 1"
   ]
  },
  {
   "cell_type": "code",
   "execution_count": 23,
   "metadata": {},
   "outputs": [],
   "source": [
    "payoffs_set = {\n",
    "    'oopg': lambda delta: (n, b, c, delta),\n",
    "    'srpg': lambda delta: (n, b, c, delta),\n",
    "    'ipg': lambda delta: (n, b, c, delta, T, theta),\n",
    "    'thr': lambda delta: (n, 10, c, delta, 10, 4)\n",
    "}\n",
    "\n",
    "payoffs_func = {'oopg': oopg_payoff_func, 'ipg': ipg_payoff_func, 'thr': thr_payoff_func}\n",
    "m_values = np.linspace(0., 1., 100)\n",
    "delta_values = [.1, .2, .4]"
   ]
  },
  {
   "cell_type": "code",
   "execution_count": 24,
   "metadata": {},
   "outputs": [
    {
     "data": {
      "image/png": "[encoded data removed]",
      "text/plain": [
       "<matplotlib.figure.Figure at 0x7fafaf3c2ba8>"
      ]
     },
     "metadata": {},
     "output_type": "display_data"
    }
   ],
   "source": [
    "df = get_dataset_rho_m_varying_delta(payoffs_func, payoffs_set, delta_values, m_values=np.linspace(0., 1., 100))\n",
    "plot_df(df)"
   ]
  },
  {
   "cell_type": "code",
   "execution_count": 25,
   "metadata": {},
   "outputs": [],
   "source": [
    "def compare_varying_b_c(b, c):\n",
    "    payoffs_set = {\n",
    "        'oopg': lambda delta: (n, b, c, delta),\n",
    "        'srpg': lambda delta: (n, b, c, delta),\n",
    "    }\n",
    "    df = get_dataset_rho_m_varying_delta({'oopg': oopg_payoff_func, 'srpg': srpg_payoff_func}, payoffs_set, delta_values, m_values=np.linspace(0., 1., 100))\n",
    "    plot_df(df, xlims=[0., 1.])\n",
    "\n",
    "b_widget = widgets.IntSlider(value=b, min=1, max=20, style={'font-size': 'large'})\n",
    "c_widget = widgets.IntSlider(value=c, min=1, max=20)"
   ]
  },
  {
   "cell_type": "code",
   "execution_count": 35,
   "metadata": {},
   "outputs": [
    {
     "data": {
      "application/vnd.jupyter.widget-view+json": {
       "model_id": "e8273420bca44cc3ab4b3a825b3bdd77",
       "version_major": 2,
       "version_minor": 0
      },
      "text/html": [
       "<p>Failed to display Jupyter Widget of type <code>interactive</code>.</p>\n",
       "<p>\n",
       "  If you're reading this message in the Jupyter Notebook or JupyterLab Notebook, it may mean\n",
       "  that the widgets JavaScript is still loading. If this message persists, it\n",
       "  likely means that the widgets JavaScript library is either not installed or\n",
       "  not enabled. See the <a href=\"https://ipywidgets.readthedocs.io/en/stable/user_install.html\">Jupyter\n",
       "  Widgets Documentation</a> for setup instructions.\n",
       "</p>\n",
       "<p>\n",
       "  If you're reading this message in another frontend (for example, a static\n",
       "  rendering on GitHub or <a href=\"https://nbviewer.jupyter.org/\">NBViewer</a>),\n",
       "  it may mean that your frontend doesn't currently support widgets.\n",
       "</p>\n"
      ],
      "text/plain": [
       "interactive(children=(IntSlider(value=15, description='b', max=20, min=1), IntSlider(value=6, description='c', max=20, min=1), Output()), _dom_classes=('widget-interact',))"
      ]
     },
     "metadata": {},
     "output_type": "display_data"
    }
   ],
   "source": [
    "w = interactive(compare_varying_b_c, b=b_widget, c=c_widget)\n",
    "display(w)"
   ]
  },
  {
   "cell_type": "code",
   "execution_count": null,
   "metadata": {},
   "outputs": [],
   "source": [
    "m = 0.1"
   ]
  },
  {
   "cell_type": "code",
   "execution_count": null,
   "metadata": {},
   "outputs": [],
   "source": [
    "df = pd.DataFrame()\n",
    "for k, v_k in {'oopg': oopg_payoff_func, 'ipg': ipg_payoff_func, 'thr': thr_payoff_func}.items():\n",
    "    args = payoffs_set[k]\n",
    "    data = {'k': [], 'nu_k': [], 'delta': []}\n",
    "    for delta in [0.01, 0.3]:\n",
    "        data['nu_k'] += list(MatrixCalculator(v_k, m, args(delta)).calc_nu())\n",
    "        data['k'] += list(range(1, n+1))\n",
    "        data['delta'] += [delta]*n\n",
    "    data['payoff_func'] = [k.upper()]*len(data['k'])\n",
    "    df = pd.concat([df, pd.DataFrame(data)])"
   ]
  },
  {
   "cell_type": "code",
   "execution_count": null,
   "metadata": {},
   "outputs": [],
   "source": [
    "print('Payoffs:')\n",
    "for k, args in payoffs_set.items():\n",
    "    print(k.upper(), args(0.01))"
   ]
  },
  {
   "cell_type": "code",
   "execution_count": null,
   "metadata": {},
   "outputs": [],
   "source": [
    "fig, ax = plt.subplots(2, 3, figsize=(15, 9))\n",
    "for i, delta in enumerate(df['delta'].unique()):\n",
    "    for j, payoff_func in enumerate(['OOPG', 'IPG', 'THR']):\n",
    "        title = r'{} ($\\delta = {}$)'.format(payoff_func, delta)\n",
    "        df_aux = df[(df['delta']==delta)&(df['payoff_func']==payoff_func)]\n",
    "        x = df_aux['k'].values\n",
    "        y = df_aux['nu_k'].values\n",
    "        this_ax = ax[i][j]\n",
    "        this_ax.grid(True)\n",
    "        this_ax.bar(x, y, color='black')\n",
    "        this_ax.set_title(title, fontsize=20)\n",
    "        this_ax.set_xlabel(r'$k$', fontsize=18)\n",
    "        this_ax.set_ylabel(r'$\\nu_k$', fontsize=20)\n",
    "        this_ax.set_xticks([1,5, 10, 15, 20])\n",
    "plt.tight_layout()\n",
    "plt.savefig(FOLDER_TO_SAVE + 'k_distribution_small_medium_delta.pdf')"
   ]
  },
  {
   "cell_type": "code",
   "execution_count": null,
   "metadata": {},
   "outputs": [],
   "source": [
    "t = 500\n",
    "n = 2"
   ]
  },
  {
   "cell_type": "code",
   "execution_count": null,
   "metadata": {},
   "outputs": [],
   "source": [
    "payoffs_set = {\n",
    "    'oopg': lambda delta: (n, b, c, delta),\n",
    "    'ipg': lambda delta: (n, b, c, delta, T, theta),\n",
    "    'thr': lambda delta: (n, 10, c, delta, 10, 4)\n",
    "}"
   ]
  },
  {
   "cell_type": "code",
   "execution_count": null,
   "metadata": {},
   "outputs": [],
   "source": [
    "mat = MatrixCalculator(oopg_payoff_func, m, payoffs_set['oopg'](0.01))"
   ]
  },
  {
   "cell_type": "code",
   "execution_count": null,
   "metadata": {},
   "outputs": [],
   "source": [
    "initial2freqs = {}\n",
    "for i in range(50):\n",
    "    freqs = np.random.random(2)\n",
    "    freqs[0] += 20\n",
    "    freqs = freqs/np.sum(freqs)\n",
    "    all_freqs = np.empty((t+1, 2))\n",
    "    all_freqs[0] = freqs\n",
    "    for period in range(t):\n",
    "        all_freqs[period+1] = np.matmul(all_freqs[period], mat.calc_matrix_r())\n",
    "    initial2freqs[tuple(freqs)] = np.array(all_freqs)  "
   ]
  },
  {
   "cell_type": "code",
   "execution_count": null,
   "metadata": {},
   "outputs": [],
   "source": [
    "nu = mat.calc_nu()"
   ]
  },
  {
   "cell_type": "code",
   "execution_count": null,
   "metadata": {},
   "outputs": [],
   "source": [
    "y = lambda x: nu[1]*x/nu[0]"
   ]
  },
  {
   "cell_type": "code",
   "execution_count": null,
   "metadata": {},
   "outputs": [],
   "source": [
    "x_values = np.linspace(0.,.5, 10)\n",
    "y(x_values)"
   ]
  },
  {
   "cell_type": "code",
   "execution_count": null,
   "metadata": {},
   "outputs": [],
   "source": [
    "plt.plot(x_values, y(x_values))\n",
    "plt.scatter([nu[0]], [nu[1]])\n",
    "for init, all_freqs in initial2freqs.items():\n",
    "    plt.scatter([init[0]], [init[1]], marker='x', s=50, color='green')\n",
    "    plt.scatter(all_freqs[:,0], all_freqs[:,1], color='black', s=10)\n",
    "plt.xlim([0,1])\n",
    "plt.ylim([0,1])\n",
    "plt.tight_layout()"
   ]
  },
  {
   "cell_type": "code",
   "execution_count": null,
   "metadata": {},
   "outputs": [],
   "source": []
  }
 ],
 "metadata": {
  "kernelspec": {
   "display_name": "Python 3",
   "language": "python",
   "name": "python3"
  },
  "language_info": {
   "codemirror_mode": {
    "name": "ipython",
    "version": 3
   },
   "file_extension": ".py",
   "mimetype": "text/x-python",
   "name": "python",
   "nbconvert_exporter": "python",
   "pygments_lexer": "ipython3",
   "version": "3.6.4"
  }
 },
 "nbformat": 4,
 "nbformat_minor": 2
}
